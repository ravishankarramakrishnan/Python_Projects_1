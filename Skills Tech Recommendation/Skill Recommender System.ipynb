{
 "cells": [
  {
   "cell_type": "code",
   "execution_count": 40,
   "metadata": {},
   "outputs": [],
   "source": [
    "import numpy as np\n",
    "import pandas as pd\n",
    "import matplotlib.pyplot as plt\n",
    "%matplotlib inline"
   ]
  },
  {
   "cell_type": "code",
   "execution_count": 41,
   "metadata": {},
   "outputs": [],
   "source": [
    "df = pd.read_csv('skill.csv', encoding = 'unicode_escape')"
   ]
  },
  {
   "cell_type": "code",
   "execution_count": 42,
   "metadata": {},
   "outputs": [
    {
     "data": {
      "text/html": [
       "<div>\n",
       "<style scoped>\n",
       "    .dataframe tbody tr th:only-of-type {\n",
       "        vertical-align: middle;\n",
       "    }\n",
       "\n",
       "    .dataframe tbody tr th {\n",
       "        vertical-align: top;\n",
       "    }\n",
       "\n",
       "    .dataframe thead th {\n",
       "        text-align: right;\n",
       "    }\n",
       "</style>\n",
       "<table border=\"1\" class=\"dataframe\">\n",
       "  <thead>\n",
       "    <tr style=\"text-align: right;\">\n",
       "      <th></th>\n",
       "      <th>Role</th>\n",
       "      <th>Skill</th>\n",
       "    </tr>\n",
       "  </thead>\n",
       "  <tbody>\n",
       "    <tr>\n",
       "      <th>0</th>\n",
       "      <td>Java Developer</td>\n",
       "      <td>Spring, Hibernate, struts, Corejava, EJB</td>\n",
       "    </tr>\n",
       "    <tr>\n",
       "      <th>1</th>\n",
       "      <td>Python Developer</td>\n",
       "      <td>Python, SQL, Django, Flask, Hadoop</td>\n",
       "    </tr>\n",
       "    <tr>\n",
       "      <th>2</th>\n",
       "      <td>Big Data Developer</td>\n",
       "      <td>Hadoop, Spark, Hive, Pig, Sqoop</td>\n",
       "    </tr>\n",
       "    <tr>\n",
       "      <th>3</th>\n",
       "      <td>Database Administrator</td>\n",
       "      <td>MongoDB, Oracle, SQL, PlSQL, Linux</td>\n",
       "    </tr>\n",
       "    <tr>\n",
       "      <th>4</th>\n",
       "      <td>Data Engineer</td>\n",
       "      <td>SQL, Python, R, MongoDB</td>\n",
       "    </tr>\n",
       "    <tr>\n",
       "      <th>5</th>\n",
       "      <td>Data Analyst</td>\n",
       "      <td>Python, Data Analysis, Statistics</td>\n",
       "    </tr>\n",
       "    <tr>\n",
       "      <th>6</th>\n",
       "      <td>Data Scientist</td>\n",
       "      <td>Python, R, SQL, Spark, Tableau</td>\n",
       "    </tr>\n",
       "    <tr>\n",
       "      <th>7</th>\n",
       "      <td>Senior Java Developer</td>\n",
       "      <td>Team Management, Core Java, Hadoop, Hibernate,...</td>\n",
       "    </tr>\n",
       "    <tr>\n",
       "      <th>8</th>\n",
       "      <td>Deep learning Engineer</td>\n",
       "      <td>Python, R, ANN, Hadoop, Spark</td>\n",
       "    </tr>\n",
       "    <tr>\n",
       "      <th>9</th>\n",
       "      <td>Machine Learning Engineer</td>\n",
       "      <td>Python, SQL, Decision Trees, Statistics, Tableau</td>\n",
       "    </tr>\n",
       "    <tr>\n",
       "      <th>10</th>\n",
       "      <td>FrontEnd Developer</td>\n",
       "      <td>HTML, CSS, PHP, Bootstrap</td>\n",
       "    </tr>\n",
       "    <tr>\n",
       "      <th>11</th>\n",
       "      <td>Mean Stack Developer</td>\n",
       "      <td>MongoDB, Angular, Node, Express, HTML, Bootstrap</td>\n",
       "    </tr>\n",
       "    <tr>\n",
       "      <th>12</th>\n",
       "      <td>Full Stack Developer</td>\n",
       "      <td>HTML, CSS, SQL, Bootstrap, Rest</td>\n",
       "    </tr>\n",
       "    <tr>\n",
       "      <th>13</th>\n",
       "      <td>Testing Engineer</td>\n",
       "      <td>Agile, Jira, HTML, CSS, Selenium</td>\n",
       "    </tr>\n",
       "    <tr>\n",
       "      <th>14</th>\n",
       "      <td>Web Scraper</td>\n",
       "      <td>HTML, CSS, Selenium, Python</td>\n",
       "    </tr>\n",
       "    <tr>\n",
       "      <th>15</th>\n",
       "      <td>CTO</td>\n",
       "      <td>Team Management, Hadoop, Data, Python, Spark, ...</td>\n",
       "    </tr>\n",
       "    <tr>\n",
       "      <th>16</th>\n",
       "      <td>Cyber Security</td>\n",
       "      <td>Cisco, Firewall, Linux, SQL</td>\n",
       "    </tr>\n",
       "    <tr>\n",
       "      <th>17</th>\n",
       "      <td>Network Security</td>\n",
       "      <td>Cisco, Firewall, Linux, Ipv4, Ipv6</td>\n",
       "    </tr>\n",
       "    <tr>\n",
       "      <th>18</th>\n",
       "      <td>.net Developer</td>\n",
       "      <td>C#, .net, HTML, CSS, SQL, MVC</td>\n",
       "    </tr>\n",
       "    <tr>\n",
       "      <th>19</th>\n",
       "      <td>Cloud Engineer</td>\n",
       "      <td>AWS, Azure, GCP, Linux, SQL</td>\n",
       "    </tr>\n",
       "  </tbody>\n",
       "</table>\n",
       "</div>"
      ],
      "text/plain": [
       "                         Role  \\\n",
       "0             Java Developer    \n",
       "1            Python Developer   \n",
       "2          Big Data Developer   \n",
       "3      Database Administrator   \n",
       "4               Data Engineer   \n",
       "5                Data Analyst   \n",
       "6              Data Scientist   \n",
       "7       Senior Java Developer   \n",
       "8      Deep learning Engineer   \n",
       "9   Machine Learning Engineer   \n",
       "10         FrontEnd Developer   \n",
       "11       Mean Stack Developer   \n",
       "12       Full Stack Developer   \n",
       "13           Testing Engineer   \n",
       "14                Web Scraper   \n",
       "15                        CTO   \n",
       "16             Cyber Security   \n",
       "17           Network Security   \n",
       "18             .net Developer   \n",
       "19             Cloud Engineer   \n",
       "\n",
       "                                                Skill  \n",
       "0            Spring, Hibernate, struts, Corejava, EJB  \n",
       "1                  Python, SQL, Django, Flask, Hadoop  \n",
       "2                     Hadoop, Spark, Hive, Pig, Sqoop  \n",
       "3                  MongoDB, Oracle, SQL, PlSQL, Linux  \n",
       "4                             SQL, Python, R, MongoDB  \n",
       "5                   Python, Data Analysis, Statistics  \n",
       "6                      Python, R, SQL, Spark, Tableau  \n",
       "7   Team Management, Core Java, Hadoop, Hibernate,...  \n",
       "8                       Python, R, ANN, Hadoop, Spark  \n",
       "9    Python, SQL, Decision Trees, Statistics, Tableau  \n",
       "10                          HTML, CSS, PHP, Bootstrap  \n",
       "11   MongoDB, Angular, Node, Express, HTML, Bootstrap  \n",
       "12                    HTML, CSS, SQL, Bootstrap, Rest  \n",
       "13                   Agile, Jira, HTML, CSS, Selenium  \n",
       "14                        HTML, CSS, Selenium, Python  \n",
       "15  Team Management, Hadoop, Data, Python, Spark, ...  \n",
       "16                        Cisco, Firewall, Linux, SQL  \n",
       "17                 Cisco, Firewall, Linux, Ipv4, Ipv6  \n",
       "18                      C#, .net, HTML, CSS, SQL, MVC  \n",
       "19                        AWS, Azure, GCP, Linux, SQL  "
      ]
     },
     "execution_count": 42,
     "metadata": {},
     "output_type": "execute_result"
    }
   ],
   "source": [
    "df"
   ]
  },
  {
   "cell_type": "code",
   "execution_count": 43,
   "metadata": {},
   "outputs": [],
   "source": [
    "skill = df"
   ]
  },
  {
   "cell_type": "code",
   "execution_count": 44,
   "metadata": {},
   "outputs": [],
   "source": [
    "skill = skill.join(skill.Skill.str.get_dummies(',')) "
   ]
  },
  {
   "cell_type": "code",
   "execution_count": 45,
   "metadata": {},
   "outputs": [
    {
     "data": {
      "text/plain": [
       "Index(['Role', 'Skill', ' .net', ' ANN', ' Angular', ' Azure', ' Bootstrap',\n",
       "       ' CSS', ' Core Java', ' Corejava', ' Data', ' Data Analysis',\n",
       "       ' Decision Trees', ' Django', ' EJB', ' Express', ' Firewall', ' Flask',\n",
       "       ' GCP', ' HTML', ' Hadoop', ' Hibernate', ' Hive', ' Ipv4', ' Ipv6',\n",
       "       ' Jira', ' Linux', ' MVC', ' MongoDB', ' Node', ' Oracle', ' PHP',\n",
       "       ' Pig', ' PlSQL', ' Python', ' R', ' Rest', ' SQL', ' Selenium',\n",
       "       ' Spark', ' Spring', ' Sqoop', ' Statistics', ' Tableau', ' struts',\n",
       "       'AWS', 'Agile', 'C#', 'Cisco', 'HTML', 'Hadoop', 'MongoDB', 'Python',\n",
       "       'SQL', 'Spring', 'Team Management'],\n",
       "      dtype='object')"
      ]
     },
     "execution_count": 45,
     "metadata": {},
     "output_type": "execute_result"
    }
   ],
   "source": [
    "skill.columns"
   ]
  },
  {
   "cell_type": "code",
   "execution_count": 7,
   "metadata": {},
   "outputs": [],
   "source": [
    "# Identifying the Similarity\n",
    "from sklearn.metrics.pairwise import cosine_similarity"
   ]
  },
  {
   "cell_type": "code",
   "execution_count": 8,
   "metadata": {},
   "outputs": [],
   "source": [
    "cos_sim = cosine_similarity(skill.iloc[0:21,2:])"
   ]
  },
  {
   "cell_type": "code",
   "execution_count": 9,
   "metadata": {},
   "outputs": [
    {
     "data": {
      "text/plain": [
       "array([[1.        , 0.        , 0.        , 0.        , 0.        ,\n",
       "        0.        , 0.        , 0.2       , 0.        , 0.        ,\n",
       "        0.        , 0.        , 0.        , 0.        , 0.        ,\n",
       "        0.        , 0.        , 0.        , 0.        , 0.        ],\n",
       "       [0.        , 1.        , 0.        , 0.2       , 0.        ,\n",
       "        0.25819889, 0.4       , 0.2       , 0.4       , 0.4       ,\n",
       "        0.        , 0.        , 0.2       , 0.        , 0.        ,\n",
       "        0.18257419, 0.2236068 , 0.        , 0.18257419, 0.2       ],\n",
       "       [0.        , 0.        , 1.        , 0.        , 0.        ,\n",
       "        0.        , 0.2       , 0.        , 0.2       , 0.        ,\n",
       "        0.        , 0.        , 0.        , 0.        , 0.        ,\n",
       "        0.18257419, 0.        , 0.        , 0.        , 0.        ],\n",
       "       [0.        , 0.2       , 0.        , 1.        , 0.        ,\n",
       "        0.        , 0.2       , 0.        , 0.        , 0.2       ,\n",
       "        0.        , 0.18257419, 0.2       , 0.        , 0.        ,\n",
       "        0.        , 0.4472136 , 0.2       , 0.18257419, 0.4       ],\n",
       "       [0.        , 0.        , 0.        , 0.        , 1.        ,\n",
       "        0.        , 0.2236068 , 0.        , 0.2236068 , 0.        ,\n",
       "        0.        , 0.        , 0.        , 0.        , 0.25      ,\n",
       "        0.40824829, 0.        , 0.        , 0.        , 0.        ],\n",
       "       [0.        , 0.25819889, 0.        , 0.        , 0.        ,\n",
       "        1.        , 0.25819889, 0.        , 0.25819889, 0.51639778,\n",
       "        0.        , 0.        , 0.        , 0.        , 0.        ,\n",
       "        0.        , 0.        , 0.        , 0.        , 0.        ],\n",
       "       [0.        , 0.4       , 0.2       , 0.2       , 0.2236068 ,\n",
       "        0.25819889, 1.        , 0.        , 0.6       , 0.6       ,\n",
       "        0.        , 0.        , 0.2       , 0.        , 0.        ,\n",
       "        0.36514837, 0.2236068 , 0.        , 0.18257419, 0.2       ],\n",
       "       [0.2       , 0.2       , 0.        , 0.        , 0.        ,\n",
       "        0.        , 0.        , 1.        , 0.2       , 0.        ,\n",
       "        0.        , 0.        , 0.        , 0.        , 0.        ,\n",
       "        0.36514837, 0.        , 0.        , 0.        , 0.        ],\n",
       "       [0.        , 0.4       , 0.2       , 0.        , 0.2236068 ,\n",
       "        0.25819889, 0.6       , 0.2       , 1.        , 0.2       ,\n",
       "        0.        , 0.        , 0.        , 0.        , 0.        ,\n",
       "        0.54772256, 0.        , 0.        , 0.        , 0.        ],\n",
       "       [0.        , 0.4       , 0.        , 0.2       , 0.        ,\n",
       "        0.51639778, 0.6       , 0.        , 0.2       , 1.        ,\n",
       "        0.        , 0.        , 0.2       , 0.        , 0.        ,\n",
       "        0.        , 0.2236068 , 0.        , 0.18257419, 0.2       ],\n",
       "       [0.        , 0.        , 0.        , 0.        , 0.        ,\n",
       "        0.        , 0.        , 0.        , 0.        , 0.        ,\n",
       "        1.        , 0.20412415, 0.67082039, 0.2236068 , 0.5       ,\n",
       "        0.        , 0.        , 0.        , 0.20412415, 0.        ],\n",
       "       [0.        , 0.        , 0.        , 0.18257419, 0.        ,\n",
       "        0.        , 0.        , 0.        , 0.        , 0.        ,\n",
       "        0.20412415, 1.        , 0.18257419, 0.18257419, 0.        ,\n",
       "        0.        , 0.        , 0.        , 0.16666667, 0.        ],\n",
       "       [0.        , 0.2       , 0.        , 0.2       , 0.        ,\n",
       "        0.        , 0.2       , 0.        , 0.        , 0.2       ,\n",
       "        0.67082039, 0.18257419, 1.        , 0.2       , 0.4472136 ,\n",
       "        0.        , 0.2236068 , 0.        , 0.36514837, 0.2       ],\n",
       "       [0.        , 0.        , 0.        , 0.        , 0.        ,\n",
       "        0.        , 0.        , 0.        , 0.        , 0.        ,\n",
       "        0.2236068 , 0.18257419, 0.2       , 1.        , 0.4472136 ,\n",
       "        0.        , 0.        , 0.        , 0.36514837, 0.        ],\n",
       "       [0.        , 0.        , 0.        , 0.        , 0.25      ,\n",
       "        0.        , 0.        , 0.        , 0.        , 0.        ,\n",
       "        0.5       , 0.        , 0.4472136 , 0.4472136 , 1.        ,\n",
       "        0.20412415, 0.        , 0.        , 0.20412415, 0.        ],\n",
       "       [0.        , 0.18257419, 0.18257419, 0.        , 0.40824829,\n",
       "        0.        , 0.36514837, 0.36514837, 0.54772256, 0.        ,\n",
       "        0.        , 0.        , 0.        , 0.        , 0.20412415,\n",
       "        1.        , 0.        , 0.        , 0.        , 0.        ],\n",
       "       [0.        , 0.2236068 , 0.        , 0.4472136 , 0.        ,\n",
       "        0.        , 0.2236068 , 0.        , 0.        , 0.2236068 ,\n",
       "        0.        , 0.        , 0.2236068 , 0.        , 0.        ,\n",
       "        0.        , 1.        , 0.67082039, 0.20412415, 0.4472136 ],\n",
       "       [0.        , 0.        , 0.        , 0.2       , 0.        ,\n",
       "        0.        , 0.        , 0.        , 0.        , 0.        ,\n",
       "        0.        , 0.        , 0.        , 0.        , 0.        ,\n",
       "        0.        , 0.67082039, 1.        , 0.        , 0.2       ],\n",
       "       [0.        , 0.18257419, 0.        , 0.18257419, 0.        ,\n",
       "        0.        , 0.18257419, 0.        , 0.        , 0.18257419,\n",
       "        0.20412415, 0.16666667, 0.36514837, 0.36514837, 0.20412415,\n",
       "        0.        , 0.20412415, 0.        , 1.        , 0.18257419],\n",
       "       [0.        , 0.2       , 0.        , 0.4       , 0.        ,\n",
       "        0.        , 0.2       , 0.        , 0.        , 0.2       ,\n",
       "        0.        , 0.        , 0.2       , 0.        , 0.        ,\n",
       "        0.        , 0.4472136 , 0.2       , 0.18257419, 1.        ]])"
      ]
     },
     "execution_count": 9,
     "metadata": {},
     "output_type": "execute_result"
    }
   ],
   "source": [
    "cos_sim"
   ]
  },
  {
   "cell_type": "code",
   "execution_count": 29,
   "metadata": {},
   "outputs": [],
   "source": [
    "# Top Similar Films\n",
    "sim_top5 = np.argsort(cos_sim[10])[-5:][::-1]"
   ]
  },
  {
   "cell_type": "code",
   "execution_count": 17,
   "metadata": {},
   "outputs": [
    {
     "data": {
      "text/plain": [
       "array([12, 10, 14, 18, 16], dtype=int64)"
      ]
     },
     "execution_count": 17,
     "metadata": {},
     "output_type": "execute_result"
    }
   ],
   "source": [
    "sim_top5"
   ]
  },
  {
   "cell_type": "code",
   "execution_count": 18,
   "metadata": {},
   "outputs": [
    {
     "data": {
      "text/html": [
       "<div>\n",
       "<style scoped>\n",
       "    .dataframe tbody tr th:only-of-type {\n",
       "        vertical-align: middle;\n",
       "    }\n",
       "\n",
       "    .dataframe tbody tr th {\n",
       "        vertical-align: top;\n",
       "    }\n",
       "\n",
       "    .dataframe thead th {\n",
       "        text-align: right;\n",
       "    }\n",
       "</style>\n",
       "<table border=\"1\" class=\"dataframe\">\n",
       "  <thead>\n",
       "    <tr style=\"text-align: right;\">\n",
       "      <th></th>\n",
       "      <th>Role</th>\n",
       "      <th>Skill</th>\n",
       "    </tr>\n",
       "  </thead>\n",
       "  <tbody>\n",
       "    <tr>\n",
       "      <th>12</th>\n",
       "      <td>Full Stack Developer</td>\n",
       "      <td>HTML, CSS, SQL, Bootstrap, Rest</td>\n",
       "    </tr>\n",
       "    <tr>\n",
       "      <th>10</th>\n",
       "      <td>FrontEnd Developer</td>\n",
       "      <td>HTML, CSS, PHP, Bootstrap</td>\n",
       "    </tr>\n",
       "    <tr>\n",
       "      <th>14</th>\n",
       "      <td>Web Scraper</td>\n",
       "      <td>HTML, CSS, Selenium, Python</td>\n",
       "    </tr>\n",
       "    <tr>\n",
       "      <th>18</th>\n",
       "      <td>.net Developer</td>\n",
       "      <td>C#, .net, HTML, CSS, SQL, MVC</td>\n",
       "    </tr>\n",
       "    <tr>\n",
       "      <th>16</th>\n",
       "      <td>Cyber Security</td>\n",
       "      <td>Cisco, Firewall, Linux, SQL</td>\n",
       "    </tr>\n",
       "  </tbody>\n",
       "</table>\n",
       "</div>"
      ],
      "text/plain": [
       "                    Role                            Skill\n",
       "12  Full Stack Developer  HTML, CSS, SQL, Bootstrap, Rest\n",
       "10    FrontEnd Developer        HTML, CSS, PHP, Bootstrap\n",
       "14           Web Scraper      HTML, CSS, Selenium, Python\n",
       "18        .net Developer    C#, .net, HTML, CSS, SQL, MVC\n",
       "16        Cyber Security      Cisco, Firewall, Linux, SQL"
      ]
     },
     "execution_count": 18,
     "metadata": {},
     "output_type": "execute_result"
    }
   ],
   "source": [
    "skill.iloc[[12, 10, 14, 18, 16],0:2]"
   ]
  }
 ],
 "metadata": {
  "kernelspec": {
   "display_name": "Python 3",
   "language": "python",
   "name": "python3"
  },
  "language_info": {
   "codemirror_mode": {
    "name": "ipython",
    "version": 3
   },
   "file_extension": ".py",
   "mimetype": "text/x-python",
   "name": "python",
   "nbconvert_exporter": "python",
   "pygments_lexer": "ipython3",
   "version": "3.5.5"
  }
 },
 "nbformat": 4,
 "nbformat_minor": 2
}
